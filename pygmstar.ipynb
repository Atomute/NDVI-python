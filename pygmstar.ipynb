{
 "cells": [
  {
   "cell_type": "code",
   "execution_count": 109,
   "metadata": {},
   "outputs": [],
   "source": [
    "ref_velocity = open('reference/velocity_sbas_verify_house_dev_2022_2023_clip.geojson')\n",
    "lines = ref_velocity.readlines()\n",
    "\n",
    "feature = lines[4:]\n",
    "ref_velocity.close()"
   ]
  },
  {
   "cell_type": "code",
   "execution_count": 111,
   "metadata": {},
   "outputs": [],
   "source": [
    "first_feature = [i.replace(\"{ \",\"\") for i in feature]\n",
    "second_feature = [i.replace(\" }\",\"\") for i in first_feature]\n",
    "third_feature = [i.replace(\"[ \",\"\") for i in second_feature]\n",
    "cleared_feature = [i.replace(\" ]\",\"\") for i in third_feature]"
   ]
  },
  {
   "cell_type": "code",
   "execution_count": 112,
   "metadata": {},
   "outputs": [],
   "source": [
    "cleared_feature[-3] = '\"type\": \"Feature\", \"properties\": \"trend\": 0.2, \"geometry\": \"type\": \"Point\", \"coordinates\": 100.460737, 13.753779,\\n'"
   ]
  },
  {
   "cell_type": "code",
   "execution_count": 113,
   "metadata": {},
   "outputs": [],
   "source": [
    "velocity = open('output/velocity.geojson')\n",
    "velo_txt = velocity.readlines()\n",
    "velocity.close()"
   ]
  },
  {
   "cell_type": "code",
   "execution_count": 114,
   "metadata": {},
   "outputs": [],
   "source": [
    "first_velo_txt = [i.replace(\"{\",\"\") for i in velo_txt]\n",
    "second_velo_txt = [i.replace(\"}\",\"\") for i in first_velo_txt]\n",
    "third_velo_txt = [i.replace(\"[\",\"\") for i in second_velo_txt]\n",
    "cleared_velo_txt = [i.replace(\"]\",\"\") for i in third_velo_txt]"
   ]
  },
  {
   "cell_type": "code",
   "execution_count": 118,
   "metadata": {},
   "outputs": [
    {
     "name": "stdout",
     "output_type": "stream",
     "text": [
      "]\n",
      "\n",
      "}\n",
      "\n",
      "2335\n"
     ]
    }
   ],
   "source": [
    "j = 0\n",
    "counter = 0\n",
    "for i in cleared_feature:\n",
    "    while i != cleared_velo_txt[j] and j < len(cleared_velo_txt)-1:\n",
    "        j+=1\n",
    "\n",
    "    while j<len(cleared_velo_txt):\n",
    "        if i == cleared_velo_txt[j]:\n",
    "            # print(True)\n",
    "            j+=1\n",
    "            counter += 1\n",
    "            break\n",
    "        else:\n",
    "            print(i)\n",
    "            break\n",
    "\n",
    "print(counter)"
   ]
  },
  {
   "cell_type": "code",
   "execution_count": 120,
   "metadata": {},
   "outputs": [
    {
     "data": {
      "text/plain": [
       "']\\n'"
      ]
     },
     "execution_count": 120,
     "metadata": {},
     "output_type": "execute_result"
    }
   ],
   "source": [
    "cleared_feature[-2]"
   ]
  },
  {
   "cell_type": "code",
   "execution_count": 4,
   "metadata": {},
   "outputs": [],
   "source": [
    "ref_disp = open('reference/disp_sbas_verify_house_dev_2022_2023_clip.geojson')\n",
    "ref_disp_lines = ref_disp.readlines()[4:]\n",
    "ref_disp.close()"
   ]
  },
  {
   "cell_type": "code",
   "execution_count": 5,
   "metadata": {},
   "outputs": [],
   "source": [
    "first_ref_disp = [i.replace(\"{ \",\"\") for i in ref_disp_lines]\n",
    "second_ref_disp = [i.replace(\" }\",\"\") for i in first_ref_disp]\n",
    "third_ref_disp = [i.replace(\"[ \",\"\") for i in second_ref_disp]\n",
    "cleared_ref_disp = [i.replace(\" ]\",\"\") for i in third_ref_disp]"
   ]
  },
  {
   "cell_type": "code",
   "execution_count": 75,
   "metadata": {},
   "outputs": [],
   "source": [
    "cleared_ref_disp[-3] = '\"type\": \"Feature\", \"properties\": \"2022-01-12\": 0.0, \"2022-01-24\": -0.7, \"2022-02-05\": -1.0, \"2022-03-13\": -0.4, \"2022-03-25\": 1.1, \"2022-04-06\": -0.6, \"2022-04-18\": 4.4, \"2022-04-30\": 1.3, \"2022-05-12\": -0.6, \"2022-05-24\": -0.4, \"2022-06-05\": -2.3, \"2022-06-29\": 0.8, \"2022-07-11\": 0.1, \"2022-07-23\": 1.9, \"2022-08-04\": 0.0, \"2022-08-16\": 1.5, \"2022-08-28\": 0.3, \"2022-10-03\": 1.0, \"2022-10-27\": 1.6, \"2022-11-08\": 0.3, \"2022-11-20\": -3.3, \"2022-12-02\": -1.4, \"2022-12-26\": -0.2, \"2023-01-07\": -1.7, \"2023-01-19\": 2.1, \"2023-01-31\": -0.4, \"2023-02-12\": -0.6, \"2023-02-24\": 1.5, \"2023-03-08\": 0.0, \"2023-03-20\": -3.6, \"2023-04-01\": -3.3, \"2023-04-13\": 0.9, \"2023-04-25\": 0.0, \"2023-05-07\": 3.3, \"2023-05-19\": 0.2, \"2023-05-31\": 1.9, \"2023-06-12\": 1.9, \"2023-06-24\": 3.7, \"2023-07-06\": 4.1, \"2023-07-18\": 2.6, \"2023-07-30\": 2.3, \"2023-08-11\": 0.6, \"2023-09-04\": 1.0, \"2023-09-16\": 2.5, \"2023-09-28\": 0.7, \"2023-10-22\": 1.2, \"2023-11-03\": -0.5, \"2023-11-15\": -0.1, \"2023-11-27\": -0.9, \"2023-12-09\": 1.3, \"2023-12-21\": -4.4, \"geometry\": \"type\": \"Point\", \"coordinates\": 100.460737, 13.753779,\\n'"
   ]
  },
  {
   "cell_type": "code",
   "execution_count": 78,
   "metadata": {},
   "outputs": [
    {
     "name": "stdout",
     "output_type": "stream",
     "text": [
      "2337\n"
     ]
    }
   ],
   "source": [
    "print(len(cleared_ref_disp))"
   ]
  },
  {
   "cell_type": "code",
   "execution_count": 2,
   "metadata": {},
   "outputs": [],
   "source": [
    "out_disp = open('output/disp_sbas.geojson')\n",
    "out_disp_lines = out_disp.readlines()[848670:1145612]\n",
    "out_disp.close()\n",
    "# [848670:1145612]"
   ]
  },
  {
   "cell_type": "code",
   "execution_count": 3,
   "metadata": {},
   "outputs": [],
   "source": [
    "first_out_disp = [i.replace(\"{\",\"\") for i in out_disp_lines]\n",
    "second_out_disp = [i.replace(\"}\",\"\") for i in first_out_disp]\n",
    "third_out_disp = [i.replace(\"[\",\"\") for i in second_out_disp]\n",
    "cleared_out_disp = [i.replace(\"]\",\"\") for i in third_out_disp]"
   ]
  },
  {
   "cell_type": "code",
   "execution_count": 141,
   "metadata": {},
   "outputs": [
    {
     "name": "stdout",
     "output_type": "stream",
     "text": [
      "True\n",
      "733\n"
     ]
    }
   ],
   "source": [
    "for i in cleared_out_disp:\n",
    "    if cleared_ref_disp[49] == i:\n",
    "        print(True)\n",
    "        print(cleared_out_disp.index(i))\n",
    "        break\n",
    "    "
   ]
  },
  {
   "cell_type": "code",
   "execution_count": 142,
   "metadata": {},
   "outputs": [
    {
     "name": "stdout",
     "output_type": "stream",
     "text": [
      "\"type\": \"Feature\", \"properties\": \"2022-01-12\": 0.0, \"2022-01-24\": -2.8, \"2022-02-05\": -4.0, \"2022-03-13\": -7.4, \"2022-03-25\": -4.3, \"2022-04-06\": -6.5, \"2022-04-18\": -4.0, \"2022-04-30\": -9.9, \"2022-05-12\": -8.4, \"2022-05-24\": -9.0, \"2022-06-05\": -12.1, \"2022-06-29\": -8.2, \"2022-07-11\": -13.2, \"2022-07-23\": -9.4, \"2022-08-04\": -11.1, \"2022-08-16\": -12.1, \"2022-08-28\": -11.2, \"2022-10-03\": -12.1, \"2022-10-27\": -11.6, \"2022-11-08\": -15.0, \"2022-11-20\": -16.2, \"2022-12-02\": -19.4, \"2022-12-26\": -16.8, \"2023-01-07\": -20.4, \"2023-01-19\": -17.6, \"2023-01-31\": -18.0, \"2023-02-12\": -19.0, \"2023-02-24\": -18.9, \"2023-03-08\": -19.6, \"2023-03-20\": -22.1, \"2023-04-01\": -22.0, \"2023-04-13\": -20.6, \"2023-04-25\": -21.7, \"2023-05-07\": -20.5, \"2023-05-19\": -22.7, \"2023-05-31\": -20.6, \"2023-06-12\": -23.7, \"2023-06-24\": -22.8, \"2023-07-06\": -23.1, \"2023-07-18\": -25.3, \"2023-07-30\": -20.9, \"2023-08-11\": -26.2, \"2023-09-04\": -25.8, \"2023-09-16\": -25.4, \"2023-09-28\": -27.1, \"2023-10-22\": -24.8, \"2023-11-03\": -29.5, \"2023-11-15\": -28.9, \"2023-11-27\": -32.6, \"2023-12-09\": -28.0, \"2023-12-21\": -33.0, \"geometry\": \"type\": \"Point\", \"coordinates\": 100.460308, 13.745904,\n",
      "\n",
      "\"type\": \"Feature\", \"properties\": \"2022-01-12\": 0.0, \"2022-01-24\": -2.8, \"2022-02-05\": -4.0, \"2022-03-13\": -7.4, \"2022-03-25\": -4.3, \"2022-04-06\": -6.5, \"2022-04-18\": -4.0, \"2022-04-30\": -9.9, \"2022-05-12\": -8.4, \"2022-05-24\": -9.0, \"2022-06-05\": -12.1, \"2022-06-29\": -8.2, \"2022-07-11\": -13.2, \"2022-07-23\": -9.4, \"2022-08-04\": -11.1, \"2022-08-16\": -12.1, \"2022-08-28\": -11.2, \"2022-10-03\": -12.1, \"2022-10-27\": -11.6, \"2022-11-08\": -15.0, \"2022-11-20\": -16.2, \"2022-12-02\": -19.4, \"2022-12-26\": -16.8, \"2023-01-07\": -20.4, \"2023-01-19\": -17.5, \"2023-01-31\": -18.0, \"2023-02-12\": -19.0, \"2023-02-24\": -18.9, \"2023-03-08\": -19.6, \"2023-03-20\": -22.1, \"2023-04-01\": -22.0, \"2023-04-13\": -20.6, \"2023-04-25\": -21.7, \"2023-05-07\": -20.5, \"2023-05-19\": -22.7, \"2023-05-31\": -20.6, \"2023-06-12\": -23.7, \"2023-06-24\": -22.8, \"2023-07-06\": -23.1, \"2023-07-18\": -25.3, \"2023-07-30\": -20.9, \"2023-08-11\": -26.2, \"2023-09-04\": -25.8, \"2023-09-16\": -25.4, \"2023-09-28\": -27.1, \"2023-10-22\": -24.8, \"2023-11-03\": -29.5, \"2023-11-15\": -28.9, \"2023-11-27\": -32.6, \"2023-12-09\": -28.0, \"2023-12-21\": -33.0, \"geometry\": \"type\": \"Point\", \"coordinates\": 100.460308, 13.745904,\n",
      "\n"
     ]
    }
   ],
   "source": [
    "print(cleared_ref_disp[50])\n",
    "print(cleared_out_disp[734])"
   ]
  },
  {
   "cell_type": "code",
   "execution_count": 146,
   "metadata": {},
   "outputs": [
    {
     "name": "stdout",
     "output_type": "stream",
     "text": [
      "0.7117437722419975\n"
     ]
    }
   ],
   "source": [
    "ref = [-17.6,-0.8,-1.8,-3.2,0.1,-5.0]\n",
    "out = [-17.5,-0.9,-1.9,-3.1,0.2,-4.9]\n",
    "\n",
    "err = [ref[i]-out[i] for i in range(6)]\n",
    "error = sum(err)*100/sum(out)\n",
    "print(error)\n",
    "# 50            739           1000          1544        1614        2315\n",
    "# 2023-01-19    2023-01-31    2023-11-15    2023-11-03  2023-11-03  2023-11-15"
   ]
  },
  {
   "cell_type": "code",
   "execution_count": null,
   "metadata": {},
   "outputs": [],
   "source": [
    "out = cleared_out_disp[49]\n",
    "ref = cleared_ref_disp[49]\n",
    "if out == ref:\n",
    "    print(True)\n",
    "else:\n",
    "    for i in range(len(out)-1):\n",
    "        if ref[i] == out[i]:\n",
    "            pass\n",
    "        else:\n",
    "            pass\n",
    "            # print(i)\n",
    "            # print(out[i])\n",
    "            # print(ref[i])\n",
    "\n",
    "print(out[60:])\n",
    "print(ref[60:])\n"
   ]
  },
  {
   "cell_type": "code",
   "execution_count": 105,
   "metadata": {},
   "outputs": [
    {
     "name": "stdout",
     "output_type": "stream",
     "text": [
      "34\n",
      "[2300, 2301, 2302, 2303, 2304, 2305, 2306, 2307, 2308, 2309, 2310, 2311, 2312, 2313, 2314, 2316, 2317, 2318, 2319, 2320, 2321, 2322, 2323, 2324, 2325, 2326, 2327, 2328, 2329, 2330, 2331, 2332, 2333, 2334]\n"
     ]
    }
   ],
   "source": [
    "j = 0\n",
    "counter = 0\n",
    "have = []\n",
    "start = 2300\n",
    "for i in cleared_ref_disp[start:start+100]:\n",
    "    j = 0\n",
    "    while j<len(cleared_out_disp):\n",
    "        if i == cleared_out_disp[j]:\n",
    "            # print(True)\n",
    "            have.append(cleared_ref_disp.index(i))\n",
    "            counter+=1\n",
    "            break\n",
    "        else:\n",
    "            j+=1\n",
    "            \n",
    "print(counter)\n",
    "print(have)\n",
    "#50, 739, 1000, 1544, 1614, 2315"
   ]
  },
  {
   "cell_type": "code",
   "execution_count": null,
   "metadata": {},
   "outputs": [],
   "source": [
    "for i in out_disp_lines:\n",
    "    if '{\"type\": \"Feature\", \"properties\": {\"2022-01-12\": 0.0, \"2022-01-24\": -3.3, \"2022-02-05\": -3.6, \"2022-03-13\": -4.9, \"2022-03-25\": -2.1, \"2022-04-06\": -3.5, \"2022-04-18\": 0.1, \"2022-04-30\": -5.1, \"2022-05-12\": -3.7, \"2022-05-24\": -3.8, \"2022-06-05\": -5.9, \"2022-06-29\": -2.4, \"2022-07-11\": -5.5, \"2022-07-23\": -3.9, \"2022-08-04\": -3.5, \"2022-08-16\": -4.2, \"2022-08-28\": -3.4, \"2022-10-03\": -2.5, \"2022-10-27\": -2.5, \"2022-11-08\": -3.8, \"2022-11-20\": -6.1, \"2022-12-02\": -8.2, \"2022-12-26\": -2.3, \"2023-01-07\": -7.2, \"2023-01-19\": -1.5, \"2023-01-31\": -2.1, \"2023-02-12\": -3.8, \"2023-02-24\": -2.7, \"2023-03-08\": -2.6, \"2023-03-20\": -5.5, \"2023-04-01\": -6.6, \"2023-04-13\": -3.8, \"2023-04-25\": -3.5, \"2023-05-07\": -2.7, \"2023-05-19\": -5.2, \"2023-05-31\": -2.2, \"2023-06-12\": -4.4, \"2023-06-24\": -3.2, \"2023-07-06\": -3.7, \"2023-07-18\": -4.1, \"2023-07-30\": -0.4, \"2023-08-11\": -1.9, \"2023-09-04\": -3.1, \"2023-09-16\": -2.6, \"2023-09-28\": -3.1, \"2023-10-22\": -1.2, \"2023-11-03\": -6.1, \"2023-11-15\": -3.8, \"2023-11-27\": -5.2, \"2023-12-09\": -1.3, \"2023-12-21\": -4.7}, \"geometry\": {\"type\": \"Point\", \"coordinates\": [100.457731, 13.745517]}},' in i:\n",
    "        print(i)\n",
    "        print(out_disp_lines.index(i))\n",
    "# '{\"type\": \"Feature\", \"properties\": {\"2022-01-12\": 0.0, \"2022-01-24\": -0.7, \"2022-02-05\": -1.0, \"2022-03-13\": -0.4, \"2022-03-25\": 1.1, \"2022-04-06\": -0.6, \"2022-04-18\": 4.4, \"2022-04-30\": 1.3, \"2022-05-12\": -0.6, \"2022-05-24\": -0.4, \"2022-06-05\": -2.3, \"2022-06-29\": 0.8, \"2022-07-11\": 0.1, \"2022-07-23\": 1.9, \"2022-08-04\": 0.0, \"2022-08-16\": 1.5, \"2022-08-28\": 0.3, \"2022-10-03\": 1.0, \"2022-10-27\": 1.6, \"2022-11-08\": 0.3, \"2022-11-20\": -3.3, \"2022-12-02\": -1.4, \"2022-12-26\": -0.2, \"2023-01-07\": -1.7, \"2023-01-19\": 2.1, \"2023-01-31\": -0.4, \"2023-02-12\": -0.6, \"2023-02-24\": 1.5, \"2023-03-08\": 0.0, \"2023-03-20\": -3.6, \"2023-04-01\": -3.3, \"2023-04-13\": 0.9, \"2023-04-25\": 0.0, \"2023-05-07\": 3.3, \"2023-05-19\": 0.2, \"2023-05-31\": 1.9, \"2023-06-12\": 1.9, \"2023-06-24\": 3.7, \"2023-07-06\": 4.1, \"2023-07-18\": 2.6, \"2023-07-30\": 2.3, \"2023-08-11\": 0.6, \"2023-09-04\": 1.0, \"2023-09-16\": 2.5, \"2023-09-28\": 0.7, \"2023-10-22\": 1.2, \"2023-11-03\": -0.5, \"2023-11-15\": -0.1, \"2023-11-27\": -0.9, \"2023-12-09\": 1.3, \"2023-12-21\": -4.4}, \"geometry\": {\"type\": \"Point\", \"coordinates\": [100.460737, 13.753779]}},\n",
    "# {\"type\": \"Feature\", \"properties\": {\"2022-01-12\": 0.0, \"2022-01-24\": -3.3, \"2022-02-05\": -3.6, \"2022-03-13\": -4.9, \"2022-03-25\": -2.1, \"2022-04-06\": -3.5, \"2022-04-18\": 0.1, \"2022-04-30\": -5.1, \"2022-05-12\": -3.7, \"2022-05-24\": -3.8, \"2022-06-05\": -5.9, \"2022-06-29\": -2.4, \"2022-07-11\": -5.5, \"2022-07-23\": -3.9, \"2022-08-04\": -3.5, \"2022-08-16\": -4.2, \"2022-08-28\": -3.4, \"2022-10-03\": -2.5, \"2022-10-27\": -2.5, \"2022-11-08\": -3.8, \"2022-11-20\": -6.1, \"2022-12-02\": -8.2, \"2022-12-26\": -2.3, \"2023-01-07\": -7.2, \"2023-01-19\": -1.5, \"2023-01-31\": -2.1, \"2023-02-12\": -3.8, \"2023-02-24\": -2.7, \"2023-03-08\": -2.6, \"2023-03-20\": -5.5, \"2023-04-01\": -6.6, \"2023-04-13\": -3.8, \"2023-04-25\": -3.5, \"2023-05-07\": -2.7, \"2023-05-19\": -5.2, \"2023-05-31\": -2.2, \"2023-06-12\": -4.4, \"2023-06-24\": -3.2, \"2023-07-06\": -3.7, \"2023-07-18\": -4.1, \"2023-07-30\": -0.4, \"2023-08-11\": -1.9, \"2023-09-04\": -3.1, \"2023-09-16\": -2.6, \"2023-09-28\": -3.1, \"2023-10-22\": -1.2, \"2023-11-03\": -6.1, \"2023-11-15\": -3.8, \"2023-11-27\": -5.2, \"2023-12-09\": -1.3, \"2023-12-21\": -4.7}, \"geometry\": {\"type\": \"Point\", \"coordinates\": [100.457731, 13.745517]}},"
   ]
  },
  {
   "cell_type": "code",
   "execution_count": null,
   "metadata": {},
   "outputs": [],
   "source": [
    "for i in out_disp_lines:\n",
    "    if '{\"type\": \"Feature\", \"properties\": {\"2022-01-12\": 0.0, \"2022-01-24\": -0.7, \"2022-02-05\": -1.0, \"2022-03-13\": -0.4, \"2022-03-25\": 1.1, \"2022-04-06\": -0.6, \"2022-04-18\": 4.4, \"2022-04-30\": 1.3, \"2022-05-12\": -0.6, \"2022-05-24\": -0.4, \"2022-06-05\": -2.3, \"2022-06-29\": 0.8, \"2022-07-11\": 0.1, \"2022-07-23\": 1.9, \"2022-08-04\": 0.0, \"2022-08-16\": 1.5, \"2022-08-28\": 0.3, \"2022-10-03\": 1.0, \"2022-10-27\": 1.6, \"2022-11-08\": 0.3, \"2022-11-20\": -3.3, \"2022-12-02\": -1.4, \"2022-12-26\": -0.2, \"2023-01-07\": -1.7, \"2023-01-19\": 2.1, \"2023-01-31\": -0.4, \"2023-02-12\": -0.6, \"2023-02-24\": 1.5, \"2023-03-08\": 0.0, \"2023-03-20\": -3.6, \"2023-04-01\": -3.3, \"2023-04-13\": 0.9, \"2023-04-25\": 0.0, \"2023-05-07\": 3.3, \"2023-05-19\": 0.2, \"2023-05-31\": 1.9, \"2023-06-12\": 1.9, \"2023-06-24\": 3.7, \"2023-07-06\": 4.1, \"2023-07-18\": 2.6, \"2023-07-30\": 2.3, \"2023-08-11\": 0.6, \"2023-09-04\": 1.0, \"2023-09-16\": 2.5, \"2023-09-28\": 0.7, \"2023-10-22\": 1.2, \"2023-11-03\": -0.5, \"2023-11-15\": -0.1, \"2023-11-27\": -0.9, \"2023-12-09\": 1.3, \"2023-12-21\": -4.4}, \"geometry\": {\"type\": \"Point\", \"coordinates\": [100.460737, 13.753779]}},' in i:\n",
    "        print(i)\n",
    "        print(out_disp_lines.index(i))"
   ]
  },
  {
   "cell_type": "code",
   "execution_count": null,
   "metadata": {},
   "outputs": [],
   "source": [
    "for i in out_disp_lines:\n",
    "    if \"100.460737, 13.753779\" in i:\n",
    "        print(i)\n",
    "        print(out_disp_lines.index(i))"
   ]
  },
  {
   "cell_type": "code",
   "execution_count": null,
   "metadata": {},
   "outputs": [],
   "source": [
    "print(1145610-848670)"
   ]
  },
  {
   "cell_type": "code",
   "execution_count": null,
   "metadata": {},
   "outputs": [],
   "source": [
    "def check_ref_pygmtsar(ref_fileName,out_fileName):\n",
    "    with open(ref_fileName) as src:\n",
    "        ref_lines = src.readlines()\n",
    "\n",
    "    with open(out_fileName) as src:\n",
    "        out_lines = src.readlines()\n",
    "\n",
    "    first_ref = [i.replace(\"{ \",\"\") for i in ref_lines]\n",
    "    second_ref = [i.replace(\" }\",\"\") for i in first_ref]\n",
    "    third_ref = [i.replace(\"[ \",\"\") for i in second_ref]\n",
    "    cleared_ref = [i.replace(\" ]\",\"\") for i in third_ref]\n",
    "\n",
    "    first_out = [i.replace(\"{\",\"\") for i in out_lines]\n",
    "    second_out = [i.replace(\"}\",\"\") for i in first_out]\n",
    "    third_out = [i.replace(\"[\",\"\") for i in second_out]\n",
    "    cleared_out = [i.replace(\"]\",\"\") for i in third_out]\n",
    "\n",
    "    j = 0\n",
    "    for i in cleared_ref:\n",
    "        while i != cleared_out[j] and j < len(cleared_out)-1:\n",
    "            j+=1\n",
    "\n",
    "        while j<len(cleared_out):\n",
    "            if i == cleared_out[j]:\n",
    "                # print(True)\n",
    "                j+=1\n",
    "                break\n",
    "            else:\n",
    "                print(i)\n",
    "                break"
   ]
  },
  {
   "cell_type": "code",
   "execution_count": null,
   "metadata": {},
   "outputs": [],
   "source": [
    "check_ref_pygmtsar('reference/velocity_sbas_verify_house_dev_2022_2023_clip.geojson','output/velocity.geojson')"
   ]
  },
  {
   "cell_type": "code",
   "execution_count": null,
   "metadata": {},
   "outputs": [],
   "source": [
    "check_ref_pygmtsar"
   ]
  },
  {
   "cell_type": "code",
   "execution_count": null,
   "metadata": {},
   "outputs": [],
   "source": [
    "out_sbas = gpd.read_file('output/velocity.geojson')\n",
    "out_sbas"
   ]
  },
  {
   "cell_type": "code",
   "execution_count": null,
   "metadata": {},
   "outputs": [],
   "source": [
    "out_sbas.plot()"
   ]
  }
 ],
 "metadata": {
  "kernelspec": {
   "display_name": "Python 3",
   "language": "python",
   "name": "python3"
  },
  "language_info": {
   "codemirror_mode": {
    "name": "ipython",
    "version": 3
   },
   "file_extension": ".py",
   "mimetype": "text/x-python",
   "name": "python",
   "nbconvert_exporter": "python",
   "pygments_lexer": "ipython3",
   "version": "3.12.2"
  }
 },
 "nbformat": 4,
 "nbformat_minor": 2
}
